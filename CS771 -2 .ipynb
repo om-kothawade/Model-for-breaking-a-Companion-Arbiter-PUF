{
  "nbformat": 4,
  "nbformat_minor": 0,
  "metadata": {
    "colab": {
      "provenance": []
    },
    "kernelspec": {
      "name": "python3",
      "display_name": "Python 3"
    },
    "language_info": {
      "name": "python"
    }
  },
  "cells": [
    {
      "cell_type": "code",
      "execution_count": 4,
      "metadata": {
        "colab": {
          "base_uri": "https://localhost:8080/"
        },
        "id": "OWyt7FXqYLEA",
        "outputId": "8e154b37-4b78-4053-8d23-3e6edd9617ec"
      },
      "outputs": [
        {
          "output_type": "stream",
          "name": "stdout",
          "text": [
            "The autoreload extension is already loaded. To reload it, use:\n",
            "  %reload_ext autoreload\n"
          ]
        }
      ],
      "source": [
        "%load_ext autoreload\n",
        "%autoreload 2"
      ]
    },
    {
      "cell_type": "code",
      "source": [
        "import math\n",
        "import numpy as np\n",
        "from sklearn.model_selection import train_test_split\n",
        "import sklearn\n",
        "from sklearn.svm import LinearSVC\n",
        "import pickle"
      ],
      "metadata": {
        "id": "29pSs3NtYjvB"
      },
      "execution_count": 5,
      "outputs": []
    },
    {
      "cell_type": "code",
      "source": [
        "file_path = '/content/train.dat'\n",
        "data = np.loadtxt(file_path)"
      ],
      "metadata": {
        "id": "QGaAuNK9ZLv4"
      },
      "execution_count": 6,
      "outputs": []
    },
    {
      "cell_type": "code",
      "source": [
        "first_five_datapoints = data[:5, :]\n",
        "print(\"First 5 datapoints:\")\n",
        "print(first_five_datapoints)"
      ],
      "metadata": {
        "colab": {
          "base_uri": "https://localhost:8080/"
        },
        "id": "McxwvxoIhWC5",
        "outputId": "93d169ec-55b0-4ce1-e63a-8df56910e5f8"
      },
      "execution_count": 7,
      "outputs": [
        {
          "output_type": "stream",
          "name": "stdout",
          "text": [
            "First 5 datapoints:\n",
            "[[1. 0. 0. 1. 0. 0. 1. 0. 0. 0. 0. 1. 1. 0. 1. 0. 0. 1. 1. 1. 0. 0. 0. 1.\n",
            "  1. 1. 0. 0. 1. 0. 1. 1. 0.]\n",
            " [1. 1. 0. 0. 0. 0. 1. 0. 0. 0. 1. 1. 0. 1. 0. 1. 0. 0. 1. 0. 1. 0. 0. 1.\n",
            "  1. 1. 0. 1. 0. 1. 1. 1. 1.]\n",
            " [0. 1. 0. 0. 0. 0. 1. 0. 1. 1. 0. 1. 1. 1. 1. 1. 0. 1. 1. 1. 1. 0. 1. 1.\n",
            "  0. 1. 1. 0. 0. 0. 0. 0. 0.]\n",
            " [0. 0. 0. 1. 0. 1. 0. 1. 0. 0. 0. 1. 1. 1. 1. 1. 0. 0. 0. 0. 1. 0. 0. 0.\n",
            "  1. 0. 0. 1. 1. 0. 0. 0. 1.]\n",
            " [0. 1. 1. 0. 1. 0. 0. 1. 0. 1. 0. 1. 1. 0. 1. 0. 1. 0. 1. 1. 0. 1. 1. 1.\n",
            "  0. 1. 0. 0. 1. 1. 1. 0. 0.]]\n"
          ]
        }
      ]
    },
    {
      "cell_type": "code",
      "source": [
        "def preprocess_data( data ):\n",
        "    X_raw = data[:,:-1]\n",
        "    y_raw = data[:,-1]\n",
        "    d = np.array([(1-2*ci) for ci in X_raw ])\n",
        "    X=[]\n",
        "    for i in range(d.shape[0]):\n",
        "      temp = []\n",
        "      for j in range(32):\n",
        "        x=1\n",
        "        for k in range(32):\n",
        "          if(k+j==32):\n",
        "            break\n",
        "          x=x*d[i][k+j]\n",
        "        temp.append(x)\n",
        "      X.append(temp)\n",
        "\n",
        "    y = np.where( y_raw > 0, 1, -1 )\n",
        "    X = np.array(X)\n",
        "    new_columns = []\n",
        "    new_columns.append(X)\n",
        "\n",
        "    for i in range(32):\n",
        "      for j in range(i+1,32):\n",
        "        prod_col = np.multiply(X[:, i], X[:, j])\n",
        "        new_columns.append(prod_col[:, np.newaxis])\n",
        "\n",
        "\n",
        "    X_new = np.concatenate(new_columns, axis=1)\n",
        "    return X_new,y\n"
      ],
      "metadata": {
        "id": "adj9HheYeILq"
      },
      "execution_count": 8,
      "outputs": []
    },
    {
      "cell_type": "code",
      "source": [
        "X, y = preprocess_data(data)"
      ],
      "metadata": {
        "id": "RhtFSI3CDsUX"
      },
      "execution_count": 9,
      "outputs": []
    },
    {
      "cell_type": "code",
      "source": [
        "for i in range(1):\n",
        "    print(f\"Data Point {i} - X: {X[i, :]}, y: {y[i]}\")"
      ],
      "metadata": {
        "colab": {
          "base_uri": "https://localhost:8080/"
        },
        "id": "zt7MabFaEJGp",
        "outputId": "91b9375e-521d-4614-a12d-2f3a027ed927"
      },
      "execution_count": 10,
      "outputs": [
        {
          "output_type": "stream",
          "name": "stdout",
          "text": [
            "Data Point 0 - X: [-1.  1.  1.  1. -1. -1. -1.  1.  1.  1.  1.  1. -1.  1.  1. -1. -1. -1.\n",
            "  1. -1.  1.  1.  1.  1. -1.  1. -1. -1. -1.  1.  1. -1. -1. -1. -1.  1.\n",
            "  1.  1. -1. -1. -1. -1. -1.  1. -1. -1.  1.  1.  1. -1.  1. -1. -1. -1.\n",
            " -1.  1. -1.  1.  1.  1. -1. -1.  1.  1.  1. -1. -1. -1.  1.  1.  1.  1.\n",
            "  1. -1.  1.  1. -1. -1. -1.  1. -1.  1.  1.  1.  1. -1.  1. -1. -1. -1.\n",
            "  1.  1. -1.  1. -1. -1. -1.  1.  1.  1.  1.  1. -1.  1.  1. -1. -1. -1.\n",
            "  1. -1.  1.  1.  1.  1. -1.  1. -1. -1. -1.  1.  1. -1. -1. -1. -1.  1.\n",
            "  1.  1.  1.  1. -1.  1.  1. -1. -1. -1.  1. -1.  1.  1.  1.  1. -1.  1.\n",
            " -1. -1. -1.  1.  1. -1.  1.  1. -1. -1. -1. -1. -1.  1. -1. -1.  1.  1.\n",
            "  1. -1.  1. -1. -1. -1. -1.  1. -1.  1.  1.  1. -1. -1.  1.  1. -1. -1.\n",
            " -1. -1. -1.  1. -1. -1.  1.  1.  1. -1.  1. -1. -1. -1. -1.  1. -1.  1.\n",
            "  1.  1. -1. -1.  1. -1. -1. -1. -1. -1.  1. -1. -1.  1.  1.  1. -1.  1.\n",
            " -1. -1. -1. -1.  1. -1.  1.  1.  1. -1. -1.  1.  1.  1.  1.  1. -1.  1.\n",
            "  1. -1. -1. -1.  1. -1.  1.  1.  1.  1. -1.  1. -1. -1. -1.  1.  1. -1.\n",
            "  1.  1.  1. -1.  1.  1. -1. -1. -1.  1. -1.  1.  1.  1.  1. -1.  1. -1.\n",
            " -1. -1.  1.  1. -1.  1.  1. -1.  1.  1. -1. -1. -1.  1. -1.  1.  1.  1.\n",
            "  1. -1.  1. -1. -1. -1.  1.  1. -1.  1. -1.  1.  1. -1. -1. -1.  1. -1.\n",
            "  1.  1.  1.  1. -1.  1. -1. -1. -1.  1.  1. -1. -1.  1.  1. -1. -1. -1.\n",
            "  1. -1.  1.  1.  1.  1. -1.  1. -1. -1. -1.  1.  1. -1. -1. -1.  1.  1.\n",
            "  1. -1.  1. -1. -1. -1. -1.  1. -1.  1.  1.  1. -1. -1.  1.  1. -1. -1.\n",
            " -1.  1. -1.  1.  1.  1.  1. -1.  1. -1. -1. -1.  1.  1. -1. -1. -1. -1.\n",
            "  1. -1.  1.  1.  1.  1. -1.  1. -1. -1. -1.  1.  1. -1.  1.  1. -1.  1.\n",
            " -1. -1. -1. -1.  1. -1.  1.  1.  1. -1. -1.  1.  1. -1.  1. -1. -1. -1.\n",
            " -1.  1. -1.  1.  1.  1. -1. -1.  1. -1.  1. -1. -1. -1. -1.  1. -1.  1.\n",
            "  1.  1. -1. -1.  1. -1.  1.  1.  1.  1. -1.  1. -1. -1. -1.  1.  1. -1.\n",
            " -1. -1. -1. -1.  1. -1.  1.  1.  1. -1. -1.  1.  1.  1.  1. -1.  1. -1.\n",
            " -1. -1.  1.  1. -1.  1.  1. -1.  1. -1. -1. -1.  1.  1. -1.  1. -1.  1.\n",
            " -1. -1. -1.  1.  1. -1. -1.  1. -1. -1. -1.  1.  1. -1. -1.  1.  1.  1.\n",
            " -1. -1.  1. -1. -1. -1.  1.  1. -1.  1.  1. -1. -1.  1.  1. -1. -1.  1.\n",
            " -1. -1.  1.  1. -1. -1.], y: -1\n"
          ]
        }
      ]
    },
    {
      "cell_type": "markdown",
      "source": [
        "# Logistic Regression"
      ],
      "metadata": {
        "id": "8iNwCdtZW0Vg"
      }
    },
    {
      "cell_type": "code",
      "source": [
        "from sklearn.linear_model import LogisticRegression\n",
        "classifier = LogisticRegression(penalty='l2',solver='saga',random_state=0)\n",
        "classifier.fit(X,y)\n"
      ],
      "metadata": {
        "colab": {
          "base_uri": "https://localhost:8080/",
          "height": 130
        },
        "id": "cCBdNgU6N7V1",
        "outputId": "eda7db15-0636-46d1-a483-62adb6789682"
      },
      "execution_count": 11,
      "outputs": [
        {
          "output_type": "stream",
          "name": "stderr",
          "text": [
            "/usr/local/lib/python3.10/dist-packages/sklearn/linear_model/_sag.py:350: ConvergenceWarning: The max_iter was reached which means the coef_ did not converge\n",
            "  warnings.warn(\n"
          ]
        },
        {
          "output_type": "execute_result",
          "data": {
            "text/plain": [
              "LogisticRegression(random_state=0, solver='saga')"
            ],
            "text/html": [
              "<style>#sk-container-id-1 {color: black;background-color: white;}#sk-container-id-1 pre{padding: 0;}#sk-container-id-1 div.sk-toggleable {background-color: white;}#sk-container-id-1 label.sk-toggleable__label {cursor: pointer;display: block;width: 100%;margin-bottom: 0;padding: 0.3em;box-sizing: border-box;text-align: center;}#sk-container-id-1 label.sk-toggleable__label-arrow:before {content: \"▸\";float: left;margin-right: 0.25em;color: #696969;}#sk-container-id-1 label.sk-toggleable__label-arrow:hover:before {color: black;}#sk-container-id-1 div.sk-estimator:hover label.sk-toggleable__label-arrow:before {color: black;}#sk-container-id-1 div.sk-toggleable__content {max-height: 0;max-width: 0;overflow: hidden;text-align: left;background-color: #f0f8ff;}#sk-container-id-1 div.sk-toggleable__content pre {margin: 0.2em;color: black;border-radius: 0.25em;background-color: #f0f8ff;}#sk-container-id-1 input.sk-toggleable__control:checked~div.sk-toggleable__content {max-height: 200px;max-width: 100%;overflow: auto;}#sk-container-id-1 input.sk-toggleable__control:checked~label.sk-toggleable__label-arrow:before {content: \"▾\";}#sk-container-id-1 div.sk-estimator input.sk-toggleable__control:checked~label.sk-toggleable__label {background-color: #d4ebff;}#sk-container-id-1 div.sk-label input.sk-toggleable__control:checked~label.sk-toggleable__label {background-color: #d4ebff;}#sk-container-id-1 input.sk-hidden--visually {border: 0;clip: rect(1px 1px 1px 1px);clip: rect(1px, 1px, 1px, 1px);height: 1px;margin: -1px;overflow: hidden;padding: 0;position: absolute;width: 1px;}#sk-container-id-1 div.sk-estimator {font-family: monospace;background-color: #f0f8ff;border: 1px dotted black;border-radius: 0.25em;box-sizing: border-box;margin-bottom: 0.5em;}#sk-container-id-1 div.sk-estimator:hover {background-color: #d4ebff;}#sk-container-id-1 div.sk-parallel-item::after {content: \"\";width: 100%;border-bottom: 1px solid gray;flex-grow: 1;}#sk-container-id-1 div.sk-label:hover label.sk-toggleable__label {background-color: #d4ebff;}#sk-container-id-1 div.sk-serial::before {content: \"\";position: absolute;border-left: 1px solid gray;box-sizing: border-box;top: 0;bottom: 0;left: 50%;z-index: 0;}#sk-container-id-1 div.sk-serial {display: flex;flex-direction: column;align-items: center;background-color: white;padding-right: 0.2em;padding-left: 0.2em;position: relative;}#sk-container-id-1 div.sk-item {position: relative;z-index: 1;}#sk-container-id-1 div.sk-parallel {display: flex;align-items: stretch;justify-content: center;background-color: white;position: relative;}#sk-container-id-1 div.sk-item::before, #sk-container-id-1 div.sk-parallel-item::before {content: \"\";position: absolute;border-left: 1px solid gray;box-sizing: border-box;top: 0;bottom: 0;left: 50%;z-index: -1;}#sk-container-id-1 div.sk-parallel-item {display: flex;flex-direction: column;z-index: 1;position: relative;background-color: white;}#sk-container-id-1 div.sk-parallel-item:first-child::after {align-self: flex-end;width: 50%;}#sk-container-id-1 div.sk-parallel-item:last-child::after {align-self: flex-start;width: 50%;}#sk-container-id-1 div.sk-parallel-item:only-child::after {width: 0;}#sk-container-id-1 div.sk-dashed-wrapped {border: 1px dashed gray;margin: 0 0.4em 0.5em 0.4em;box-sizing: border-box;padding-bottom: 0.4em;background-color: white;}#sk-container-id-1 div.sk-label label {font-family: monospace;font-weight: bold;display: inline-block;line-height: 1.2em;}#sk-container-id-1 div.sk-label-container {text-align: center;}#sk-container-id-1 div.sk-container {/* jupyter's `normalize.less` sets `[hidden] { display: none; }` but bootstrap.min.css set `[hidden] { display: none !important; }` so we also need the `!important` here to be able to override the default hidden behavior on the sphinx rendered scikit-learn.org. See: https://github.com/scikit-learn/scikit-learn/issues/21755 */display: inline-block !important;position: relative;}#sk-container-id-1 div.sk-text-repr-fallback {display: none;}</style><div id=\"sk-container-id-1\" class=\"sk-top-container\"><div class=\"sk-text-repr-fallback\"><pre>LogisticRegression(random_state=0, solver=&#x27;saga&#x27;)</pre><b>In a Jupyter environment, please rerun this cell to show the HTML representation or trust the notebook. <br />On GitHub, the HTML representation is unable to render, please try loading this page with nbviewer.org.</b></div><div class=\"sk-container\" hidden><div class=\"sk-item\"><div class=\"sk-estimator sk-toggleable\"><input class=\"sk-toggleable__control sk-hidden--visually\" id=\"sk-estimator-id-1\" type=\"checkbox\" checked><label for=\"sk-estimator-id-1\" class=\"sk-toggleable__label sk-toggleable__label-arrow\">LogisticRegression</label><div class=\"sk-toggleable__content\"><pre>LogisticRegression(random_state=0, solver=&#x27;saga&#x27;)</pre></div></div></div></div></div>"
            ]
          },
          "metadata": {},
          "execution_count": 11
        }
      ]
    },
    {
      "cell_type": "code",
      "source": [
        "classifier.predict([X[0, :]])"
      ],
      "metadata": {
        "colab": {
          "base_uri": "https://localhost:8080/"
        },
        "id": "z6kBS4t7PTC1",
        "outputId": "9645f372-081b-43ad-d392-0f4d1c12c634"
      },
      "execution_count": 12,
      "outputs": [
        {
          "output_type": "execute_result",
          "data": {
            "text/plain": [
              "array([-1])"
            ]
          },
          "metadata": {},
          "execution_count": 12
        }
      ]
    },
    {
      "cell_type": "code",
      "source": [
        "file_path_2 = '/content/test.dat'\n",
        "test_data = np.loadtxt(file_path_2)"
      ],
      "metadata": {
        "id": "cGc2Qv5xQEIi"
      },
      "execution_count": 13,
      "outputs": []
    },
    {
      "cell_type": "code",
      "source": [
        "X_test, y_test = preprocess_data(test_data)"
      ],
      "metadata": {
        "id": "SV9PmLQPRZik"
      },
      "execution_count": 14,
      "outputs": []
    },
    {
      "cell_type": "code",
      "source": [
        "y_pred = classifier.predict(X_test)\n",
        "print(np.concatenate((y_pred.reshape(len(y_pred),1),y_test.reshape(len(y_test),1)),1))"
      ],
      "metadata": {
        "colab": {
          "base_uri": "https://localhost:8080/"
        },
        "id": "Kuqjj3XkRyKI",
        "outputId": "8c21f98e-1a05-4467-fa9c-5aa98d06431a"
      },
      "execution_count": 15,
      "outputs": [
        {
          "output_type": "stream",
          "name": "stdout",
          "text": [
            "[[ 1  1]\n",
            " [-1 -1]\n",
            " [-1 -1]\n",
            " ...\n",
            " [-1 -1]\n",
            " [-1 -1]\n",
            " [ 1  1]]\n"
          ]
        }
      ]
    },
    {
      "cell_type": "code",
      "source": [
        "from sklearn.metrics import confusion_matrix,accuracy_score\n",
        "cm = confusion_matrix(y_test, y_pred)\n",
        "print(cm)\n",
        "accuracy_score(y_test, y_pred)"
      ],
      "metadata": {
        "colab": {
          "base_uri": "https://localhost:8080/"
        },
        "id": "Gl5FBysCVXv0",
        "outputId": "9ac8f327-4203-4a5d-81d4-854dc474aab9"
      },
      "execution_count": 16,
      "outputs": [
        {
          "output_type": "stream",
          "name": "stdout",
          "text": [
            "[[4994   60]\n",
            " [  37 4909]]\n"
          ]
        },
        {
          "output_type": "execute_result",
          "data": {
            "text/plain": [
              "0.9903"
            ]
          },
          "metadata": {},
          "execution_count": 16
        }
      ]
    },
    {
      "cell_type": "markdown",
      "source": [
        "2)Accuracy= 98.71 for C=0.1;\n",
        "Accuracy= 99.07 for C=1;\n",
        "Accuracy= 99.22 for C=10\n",
        "\n"
      ],
      "metadata": {
        "id": "s9yy5DRI8_uB"
      }
    },
    {
      "cell_type": "markdown",
      "source": [
        "3)Accuracy= 99.07 for tol=1e-4; Accuracy= 99.07 for tol=1e-4; Accuracy= 99.07 for tol=1e-2 i.e no change in accuracy after changing tol form low to high"
      ],
      "metadata": {
        "id": "bH1NrumfAKua"
      }
    },
    {
      "cell_type": "markdown",
      "source": [
        "4) Accuracy=99.06 for penalty=l2; Accuracy=99.06 for penalty=l1 i.e no change in accuracy"
      ],
      "metadata": {
        "id": "48ASgrkrB5Zi"
      }
    },
    {
      "cell_type": "markdown",
      "source": [
        "# Linear SVC"
      ],
      "metadata": {
        "id": "1XBQoSvAhx5w"
      }
    },
    {
      "cell_type": "code",
      "source": [
        "# cls = LinearSVC(loss=\"hinge\")\n",
        "# cls.fit(X,y)\n",
        "cls = LinearSVC(penalty='l1',loss=\"squared_hinge\",dual=False)\n",
        "cls.fit(X,y)"
      ],
      "metadata": {
        "colab": {
          "base_uri": "https://localhost:8080/",
          "height": 130
        },
        "id": "cBA9ssC1h1Ht",
        "outputId": "0b8b84db-0d59-4ba5-e992-d5e03a83752f"
      },
      "execution_count": 19,
      "outputs": [
        {
          "output_type": "stream",
          "name": "stderr",
          "text": [
            "/usr/local/lib/python3.10/dist-packages/sklearn/svm/_base.py:1244: ConvergenceWarning: Liblinear failed to converge, increase the number of iterations.\n",
            "  warnings.warn(\n"
          ]
        },
        {
          "output_type": "execute_result",
          "data": {
            "text/plain": [
              "LinearSVC(dual=False, penalty='l1')"
            ],
            "text/html": [
              "<style>#sk-container-id-3 {color: black;background-color: white;}#sk-container-id-3 pre{padding: 0;}#sk-container-id-3 div.sk-toggleable {background-color: white;}#sk-container-id-3 label.sk-toggleable__label {cursor: pointer;display: block;width: 100%;margin-bottom: 0;padding: 0.3em;box-sizing: border-box;text-align: center;}#sk-container-id-3 label.sk-toggleable__label-arrow:before {content: \"▸\";float: left;margin-right: 0.25em;color: #696969;}#sk-container-id-3 label.sk-toggleable__label-arrow:hover:before {color: black;}#sk-container-id-3 div.sk-estimator:hover label.sk-toggleable__label-arrow:before {color: black;}#sk-container-id-3 div.sk-toggleable__content {max-height: 0;max-width: 0;overflow: hidden;text-align: left;background-color: #f0f8ff;}#sk-container-id-3 div.sk-toggleable__content pre {margin: 0.2em;color: black;border-radius: 0.25em;background-color: #f0f8ff;}#sk-container-id-3 input.sk-toggleable__control:checked~div.sk-toggleable__content {max-height: 200px;max-width: 100%;overflow: auto;}#sk-container-id-3 input.sk-toggleable__control:checked~label.sk-toggleable__label-arrow:before {content: \"▾\";}#sk-container-id-3 div.sk-estimator input.sk-toggleable__control:checked~label.sk-toggleable__label {background-color: #d4ebff;}#sk-container-id-3 div.sk-label input.sk-toggleable__control:checked~label.sk-toggleable__label {background-color: #d4ebff;}#sk-container-id-3 input.sk-hidden--visually {border: 0;clip: rect(1px 1px 1px 1px);clip: rect(1px, 1px, 1px, 1px);height: 1px;margin: -1px;overflow: hidden;padding: 0;position: absolute;width: 1px;}#sk-container-id-3 div.sk-estimator {font-family: monospace;background-color: #f0f8ff;border: 1px dotted black;border-radius: 0.25em;box-sizing: border-box;margin-bottom: 0.5em;}#sk-container-id-3 div.sk-estimator:hover {background-color: #d4ebff;}#sk-container-id-3 div.sk-parallel-item::after {content: \"\";width: 100%;border-bottom: 1px solid gray;flex-grow: 1;}#sk-container-id-3 div.sk-label:hover label.sk-toggleable__label {background-color: #d4ebff;}#sk-container-id-3 div.sk-serial::before {content: \"\";position: absolute;border-left: 1px solid gray;box-sizing: border-box;top: 0;bottom: 0;left: 50%;z-index: 0;}#sk-container-id-3 div.sk-serial {display: flex;flex-direction: column;align-items: center;background-color: white;padding-right: 0.2em;padding-left: 0.2em;position: relative;}#sk-container-id-3 div.sk-item {position: relative;z-index: 1;}#sk-container-id-3 div.sk-parallel {display: flex;align-items: stretch;justify-content: center;background-color: white;position: relative;}#sk-container-id-3 div.sk-item::before, #sk-container-id-3 div.sk-parallel-item::before {content: \"\";position: absolute;border-left: 1px solid gray;box-sizing: border-box;top: 0;bottom: 0;left: 50%;z-index: -1;}#sk-container-id-3 div.sk-parallel-item {display: flex;flex-direction: column;z-index: 1;position: relative;background-color: white;}#sk-container-id-3 div.sk-parallel-item:first-child::after {align-self: flex-end;width: 50%;}#sk-container-id-3 div.sk-parallel-item:last-child::after {align-self: flex-start;width: 50%;}#sk-container-id-3 div.sk-parallel-item:only-child::after {width: 0;}#sk-container-id-3 div.sk-dashed-wrapped {border: 1px dashed gray;margin: 0 0.4em 0.5em 0.4em;box-sizing: border-box;padding-bottom: 0.4em;background-color: white;}#sk-container-id-3 div.sk-label label {font-family: monospace;font-weight: bold;display: inline-block;line-height: 1.2em;}#sk-container-id-3 div.sk-label-container {text-align: center;}#sk-container-id-3 div.sk-container {/* jupyter's `normalize.less` sets `[hidden] { display: none; }` but bootstrap.min.css set `[hidden] { display: none !important; }` so we also need the `!important` here to be able to override the default hidden behavior on the sphinx rendered scikit-learn.org. See: https://github.com/scikit-learn/scikit-learn/issues/21755 */display: inline-block !important;position: relative;}#sk-container-id-3 div.sk-text-repr-fallback {display: none;}</style><div id=\"sk-container-id-3\" class=\"sk-top-container\"><div class=\"sk-text-repr-fallback\"><pre>LinearSVC(dual=False, penalty=&#x27;l1&#x27;)</pre><b>In a Jupyter environment, please rerun this cell to show the HTML representation or trust the notebook. <br />On GitHub, the HTML representation is unable to render, please try loading this page with nbviewer.org.</b></div><div class=\"sk-container\" hidden><div class=\"sk-item\"><div class=\"sk-estimator sk-toggleable\"><input class=\"sk-toggleable__control sk-hidden--visually\" id=\"sk-estimator-id-3\" type=\"checkbox\" checked><label for=\"sk-estimator-id-3\" class=\"sk-toggleable__label sk-toggleable__label-arrow\">LinearSVC</label><div class=\"sk-toggleable__content\"><pre>LinearSVC(dual=False, penalty=&#x27;l1&#x27;)</pre></div></div></div></div></div>"
            ]
          },
          "metadata": {},
          "execution_count": 19
        }
      ]
    },
    {
      "cell_type": "code",
      "source": [
        "cls.score(X_test,y_test)"
      ],
      "metadata": {
        "colab": {
          "base_uri": "https://localhost:8080/"
        },
        "id": "3wpi9gw8ikoT",
        "outputId": "6ee652b7-4bfc-4194-a22e-883a020a95a7"
      },
      "execution_count": 20,
      "outputs": [
        {
          "output_type": "execute_result",
          "data": {
            "text/plain": [
              "0.991"
            ]
          },
          "metadata": {},
          "execution_count": 20
        }
      ]
    },
    {
      "cell_type": "markdown",
      "source": [
        "1)Accuracy changes from 98.85 to 99.14 after changing the loss in SVC from hinge to squared hinge\n"
      ],
      "metadata": {
        "id": "dKxw59-Z8CuI"
      }
    },
    {
      "cell_type": "markdown",
      "source": [
        "2)Accuracy=98.99 for C=0.1;Accuracy=99.13 for C=1;Accuracy=99.03 for C=10;"
      ],
      "metadata": {
        "id": "yjARqiyr-zPl"
      }
    },
    {
      "cell_type": "markdown",
      "source": [
        "3)Accuracy= 99.07 for tol=1e-4; Accuracy= 99.18 for tol=1e-3; Accuracy= 99.14 for tol=1e-2"
      ],
      "metadata": {
        "id": "RHCYBAisA53J"
      }
    },
    {
      "cell_type": "markdown",
      "source": [
        "4)Accuracy=99.10 for penalty=l2;Accuracy=99.12 for penalty=l1"
      ],
      "metadata": {
        "id": "pABHSOypE8BR"
      }
    }
  ]
}